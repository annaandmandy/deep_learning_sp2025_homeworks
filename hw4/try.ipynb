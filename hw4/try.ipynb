{
 "cells": [
  {
   "cell_type": "code",
   "execution_count": null,
   "metadata": {},
   "outputs": [
    {
     "name": "stderr",
     "output_type": "stream",
     "text": [
      "100%|██████████| 31/31 [00:05<00:00,  5.86it/s]"
     ]
    },
    {
     "name": "stdout",
     "output_type": "stream",
     "text": [
      "✅ 爬取完成，已儲存為 bbc_news_december.csv\n"
     ]
    },
    {
     "name": "stderr",
     "output_type": "stream",
     "text": [
      "\n"
     ]
    }
   ],
   "source": [
    "import requests\n",
    "from bs4 import BeautifulSoup\n",
    "import pandas as pd\n",
    "from tqdm import tqdm\n",
    "import datetime\n",
    "\n",
    "# BBC News 搜尋結果網址\n",
    "BASE_URL = \"https://www.bbc.com/news\"\n",
    "\n",
    "# 設定要爬取的日期範圍 (去年 12 月)\n",
    "start_date = datetime.date(2024, 12, 1)  # 改成去年的12月\n",
    "end_date = datetime.date(2024, 12, 31)\n",
    "\n",
    "# 存放結果\n",
    "news_data = []\n",
    "\n",
    "# 爬取 12 月每一天的新聞\n",
    "for single_date in tqdm(pd.date_range(start_date, end_date)):\n",
    "    date_str = single_date.strftime(\"%Y-%m-%d\")\n",
    "    search_url = f\"{BASE_URL}&from={date_str}&to={date_str}\"\n",
    "    \n",
    "    # 發送 HTTP 請求\n",
    "    response = requests.get(search_url, headers={\"User-Agent\": \"Mozilla/5.0\"})\n",
    "    if response.status_code != 200:\n",
    "        print(f\"❌ 無法取得 {date_str} 的新聞\")\n",
    "        continue\n",
    "\n",
    "    # 解析 HTML\n",
    "    soup = BeautifulSoup(response.text, \"html.parser\")\n",
    "    \n",
    "    # 找出新聞標題與連結\n",
    "    articles = soup.select(\".ssrcss-1f3w5wp-PromoHeadline a\")  # 依照 BBC 網站結構調整選擇器\n",
    "    for article in articles:\n",
    "        title = article.get_text()\n",
    "        link = \"https://www.bbc.com\" + article[\"href\"]\n",
    "        news_data.append({\"date\": date_str, \"title\": title, \"link\": link})\n",
    "\n",
    "# 存成 DataFrame\n",
    "df = pd.DataFrame(news_data)\n",
    "df.to_csv(\"bbc_news_december.csv\", index=False)\n",
    "print(\"✅ 爬取完成，已儲存為 bbc_news_december.csv\")\n"
   ]
  },
  {
   "cell_type": "code",
   "execution_count": 6,
   "metadata": {},
   "outputs": [
    {
     "data": {
      "text/plain": [
       "[]"
      ]
     },
     "execution_count": 6,
     "metadata": {},
     "output_type": "execute_result"
    }
   ],
   "source": [
    "news_data"
   ]
  },
  {
   "cell_type": "code",
   "execution_count": null,
   "metadata": {},
   "outputs": [],
   "source": []
  }
 ],
 "metadata": {
  "kernelspec": {
   "display_name": ".venv",
   "language": "python",
   "name": "python3"
  },
  "language_info": {
   "codemirror_mode": {
    "name": "ipython",
    "version": 3
   },
   "file_extension": ".py",
   "mimetype": "text/x-python",
   "name": "python",
   "nbconvert_exporter": "python",
   "pygments_lexer": "ipython3",
   "version": "3.12.3"
  }
 },
 "nbformat": 4,
 "nbformat_minor": 2
}
